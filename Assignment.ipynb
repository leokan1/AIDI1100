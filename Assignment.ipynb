{
  "nbformat": 4,
  "nbformat_minor": 0,
  "metadata": {
    "colab": {
      "name": "AIDI_1100_02_ASSIGNMENT1_KarChun_Kan.ipynb",
      "provenance": []
    },
    "kernelspec": {
      "name": "python3",
      "display_name": "Python 3"
    },
    "language_info": {
      "name": "python"
    }
  },
  "cells": [
    {
      "cell_type": "code",
      "execution_count": 1,
      "metadata": {
        "id": "XUnmTrbh9GQl"
      },
      "outputs": [],
      "source": [
        "# Name: Kar Chun Kan\n",
        "# Assignment: 1\n",
        "# Course code: AIDI-1100-02\n",
        "# Submission Date: 24/02/2022\n",
        "# Description of the program: calculate annual salary of five employees and print a pay stub"
      ]
    },
    {
      "cell_type": "code",
      "source": [
        "# import libraries\n",
        "from datetime import datetime\n",
        "from random import randrange"
      ],
      "metadata": {
        "id": "V6HDm9iM5kIf"
      },
      "execution_count": 2,
      "outputs": []
    },
    {
      "cell_type": "markdown",
      "source": [
        "Deductible class for calcualte taxes and benefits"
      ],
      "metadata": {
        "id": "XMpCiQ1F6e1N"
      }
    },
    {
      "cell_type": "code",
      "source": [
        "class Deductible:\n",
        "    # default taxes rate is 0.155 and benefits rate is 0.065\n",
        "    def __init__(self, taxes_rate = 0.155, benefits_rate = 0.065):\n",
        "        self.taxes_rate = taxes_rate\n",
        "        self.benefits_rate = benefits_rate\n",
        "\n",
        "    # calculate deductibles by adding taxes and benefits\n",
        "    def cal_deductibles(self, employee):\n",
        "        return self.cal_Taxes(employee) + self.cal_Benefits(employee)\n",
        "\n",
        "    # calcualte taxes by employee's income\n",
        "    def cal_Taxes(self, employee):\n",
        "        return employee.cal_gross_annual_income() * self.taxes_rate\n",
        "\n",
        "    # calculate benefits by employee's income\n",
        "    def cal_Benefits(self, employee):\n",
        "        return employee.cal_gross_annual_income() * self.benefits_rate\n",
        "\n",
        "    # print employee's deductible\n",
        "    def print_deductible(self, employee):\n",
        "        print(f\"Deductibles: ${round(self.cal_deductibles(employee), 2)}\\n\"\n",
        "              f\"Deductible(Taxes): ${round(self.cal_Taxes(employee), 2)}\\n\"\n",
        "              f\"Deductible(Benefits): ${round(self.cal_Benefits(employee), 2)}\")\n",
        "        "
      ],
      "metadata": {
        "id": "uPNhugZu5vQC"
      },
      "execution_count": 3,
      "outputs": []
    },
    {
      "cell_type": "markdown",
      "source": [
        "Company class and Employee class\n",
        "\n",
        "Employee class extended Company because employee belongs to company"
      ],
      "metadata": {
        "id": "PAkDYUWU7OLb"
      }
    },
    {
      "cell_type": "code",
      "source": [
        "class Company:\n",
        "    # define company name\n",
        "    def __init__(self, name):\n",
        "        self.company_name = name\n",
        "\n",
        "    def get_company_name(self):\n",
        "        return self.company_name\n",
        "\n",
        "    # print company name\n",
        "    def print_company(self):\n",
        "        print(f\"Company name: {self.company_name}\")\n",
        "\n",
        "\n",
        "class Employee(Company):\n",
        "    # set employee attributes, reuqire company object because employee belongs to company\n",
        "    def __init__(self, company, id, name, position, annual_salary):\n",
        "        super(Employee, self).__init__(company.company_name)\n",
        "        self.id = id\n",
        "        self.name = name\n",
        "        self.position = position\n",
        "        self.annual_salary = annual_salary\n",
        "\n",
        "    # calcualte employee's bonus by annual salary\n",
        "    def cal_bonus(self):\n",
        "        bonus = 0\n",
        "        if self.annual_salary <= 25000:\n",
        "            bonus += self.annual_salary * 0.105\n",
        "        elif 25000 < self.annual_salary <= 50000:\n",
        "            bonus += self.annual_salary * 0.115\n",
        "        elif self.annual_salary > 55000:\n",
        "            bonus += self.annual_salary * 0.125\n",
        "        else:\n",
        "            bonus = 0\n",
        "        return bonus\n",
        "\n",
        "    # calcualte gross annual income by annual salary and bonus\n",
        "    def cal_gross_annual_income(self):\n",
        "        return self.annual_salary + self.cal_bonus()\n",
        "\n",
        "    # calcualte net annual income by gross annual income and deductibles\n",
        "    def cal_net_annual_income(self):\n",
        "        self.deductibles = deductible.cal_deductibles(self)\n",
        "        self.deductible_taxes = deductible.cal_Taxes(self)\n",
        "        self.deductible_benefits = deductible.cal_Benefits(self)\n",
        "        self.net_annual_income = self.cal_gross_annual_income() - self.deductibles\n",
        "        return self.net_annual_income\n",
        "      \n",
        "    # print employee's details\n",
        "    def print_employee(self):\n",
        "        print(f\"ID: {self.id}\\n\"\n",
        "              f\"Employee: {self.name}\\n\"\n",
        "              f\"Position: {self.position}\\n\"\n",
        "              f\"Salary: ${self.annual_salary}\\n\"\n",
        "              f\"Bonus: ${round(self.cal_bonus(), 2)}\\n\"\n",
        "              f\"Gross Annual Income: ${round(self.cal_gross_annual_income(), 2)}\")\n",
        "\n",
        "    # print employee's net annual income\n",
        "    def print_net_annual_income(self):\n",
        "        print(f\"Net Annual Income: ${round(self.cal_net_annual_income(), 2)}\")\n"
      ],
      "metadata": {
        "id": "_NH8e0_u51-q"
      },
      "execution_count": 4,
      "outputs": []
    },
    {
      "cell_type": "markdown",
      "source": [
        "PayStub class\n",
        "\n",
        "PayStub is standalone, it does not belongs to company or employee because they have no relationship."
      ],
      "metadata": {
        "id": "jYqv45ew8KZU"
      }
    },
    {
      "cell_type": "code",
      "source": [
        "class PayStub:\n",
        "    # define paystub date\n",
        "    def __init__(self, date):\n",
        "        self.date = date\n",
        "\n",
        "    # print list of employees details\n",
        "    def print_pay_stub(self, employees):\n",
        "        for employee in employees:\n",
        "            employee.print_company()\n",
        "            print(f\"Date of Pay-Stub: {self.date}\")\n",
        "            employee.print_employee()\n",
        "            deductible.print_deductible(employee)\n",
        "            employee.print_net_annual_income()\n",
        "            print(\"===============================\")"
      ],
      "metadata": {
        "id": "ZMBQfLN-6C2L"
      },
      "execution_count": 5,
      "outputs": []
    },
    {
      "cell_type": "markdown",
      "source": [
        "Main function to display five employees details"
      ],
      "metadata": {
        "id": "P6-fGGDP8iJR"
      }
    },
    {
      "cell_type": "code",
      "source": [
        "# global variable\n",
        "deductible = Deductible()\n",
        "employees = []\n",
        "\n",
        "# main function\n",
        "def main():\n",
        "  # set first name and last name to display full name\n",
        "  first_names = [\"Rebecca\", \"Kerry\", \"Francis\", \"John\", \"Soledad\"]\n",
        "  last_names = [\"Puglia\", \"Morgan\", \"Warren\", \"Adams\", \"Stahlberg\"]\n",
        "  # set company's postitions\n",
        "  positions = [\"Manager\", \"Developer\", \"QA\", \"Data Analysis\", \"Potato\"]\n",
        "  # format today's date to yyyy-mm-dd\n",
        "  today = datetime.today().strftime('%Y-%m-%d')\n",
        "  # setup company by its name\n",
        "  company = Company(\"Durham\")\n",
        "\n",
        "  # loop 5 times to generate employee\n",
        "  for id in range(1,6):\n",
        "    # generate full name by randoming of first name and last name\n",
        "    full_name = f\"{first_names[randrange(5)]} {last_names[randrange(5)]}\"\n",
        "    # generate employee by randome name, randome position, and randome annual salary\n",
        "    employee = Employee(company, id, full_name, positions[randrange(5)], randrange(10000,70000))\n",
        "    # append generated employee to a list\n",
        "    employees.append(employee)\n",
        "  \n",
        "  # put all employee to paystub and print their details\n",
        "  payStub = PayStub(today)\n",
        "  payStub.print_pay_stub(employees)\n",
        "\n",
        "# call main function\n",
        "main()"
      ],
      "metadata": {
        "colab": {
          "base_uri": "https://localhost:8080/"
        },
        "id": "x6Ej290z6bOv",
        "outputId": "27ba5e3c-8b0c-4557-ecc0-652683dd183e"
      },
      "execution_count": 6,
      "outputs": [
        {
          "output_type": "stream",
          "name": "stdout",
          "text": [
            "Company name: Durham\n",
            "Date of Pay-Stub: 2022-02-25\n",
            "ID: 1\n",
            "Employee: John Stahlberg\n",
            "Position: Potato\n",
            "Salary: $38741\n",
            "Bonus: $4455.22\n",
            "Gross Annual Income: $43196.21\n",
            "Deductibles: $9503.17\n",
            "Deductible(Taxes): $6695.41\n",
            "Deductible(Benefits): $2807.75\n",
            "Net Annual Income: $33693.05\n",
            "===============================\n",
            "Company name: Durham\n",
            "Date of Pay-Stub: 2022-02-25\n",
            "ID: 2\n",
            "Employee: Rebecca Adams\n",
            "Position: QA\n",
            "Salary: $19885\n",
            "Bonus: $2087.92\n",
            "Gross Annual Income: $21972.92\n",
            "Deductibles: $4834.04\n",
            "Deductible(Taxes): $3405.8\n",
            "Deductible(Benefits): $1428.24\n",
            "Net Annual Income: $17138.88\n",
            "===============================\n",
            "Company name: Durham\n",
            "Date of Pay-Stub: 2022-02-25\n",
            "ID: 3\n",
            "Employee: Soledad Morgan\n",
            "Position: Data Analysis\n",
            "Salary: $61314\n",
            "Bonus: $7664.25\n",
            "Gross Annual Income: $68978.25\n",
            "Deductibles: $15175.22\n",
            "Deductible(Taxes): $10691.63\n",
            "Deductible(Benefits): $4483.59\n",
            "Net Annual Income: $53803.04\n",
            "===============================\n",
            "Company name: Durham\n",
            "Date of Pay-Stub: 2022-02-25\n",
            "ID: 4\n",
            "Employee: Soledad Morgan\n",
            "Position: Developer\n",
            "Salary: $44916\n",
            "Bonus: $5165.34\n",
            "Gross Annual Income: $50081.34\n",
            "Deductibles: $11017.89\n",
            "Deductible(Taxes): $7762.61\n",
            "Deductible(Benefits): $3255.29\n",
            "Net Annual Income: $39063.45\n",
            "===============================\n",
            "Company name: Durham\n",
            "Date of Pay-Stub: 2022-02-25\n",
            "ID: 5\n",
            "Employee: Rebecca Adams\n",
            "Position: Manager\n",
            "Salary: $67154\n",
            "Bonus: $8394.25\n",
            "Gross Annual Income: $75548.25\n",
            "Deductibles: $16620.62\n",
            "Deductible(Taxes): $11709.98\n",
            "Deductible(Benefits): $4910.64\n",
            "Net Annual Income: $58927.63\n",
            "===============================\n"
          ]
        }
      ]
    },
    {
      "cell_type": "markdown",
      "source": [
        "Put employees to DataFrame\n",
        "\n",
        "we can easy to use the data after put them to dataframe"
      ],
      "metadata": {
        "id": "FyQsnAwE9ZxC"
      }
    },
    {
      "cell_type": "code",
      "source": [
        "# print ALL variable in employee class\n",
        "for employee in employees:\n",
        "  print(vars(employee))"
      ],
      "metadata": {
        "colab": {
          "base_uri": "https://localhost:8080/"
        },
        "id": "by6K6D7q-DIl",
        "outputId": "ef075f1e-e119-4efe-92fa-c0eeeedeafc5"
      },
      "execution_count": 7,
      "outputs": [
        {
          "output_type": "stream",
          "name": "stdout",
          "text": [
            "{'company_name': 'Durham', 'id': 1, 'name': 'John Stahlberg', 'position': 'Potato', 'annual_salary': 38741, 'deductibles': 9503.1673, 'deductible_taxes': 6695.4133249999995, 'deductible_benefits': 2807.753975, 'net_annual_income': 33693.047699999996}\n",
            "{'company_name': 'Durham', 'id': 2, 'name': 'Rebecca Adams', 'position': 'QA', 'annual_salary': 19885, 'deductibles': 4834.0435, 'deductible_taxes': 3405.803375, 'deductible_benefits': 1428.240125, 'net_annual_income': 17138.8815}\n",
            "{'company_name': 'Durham', 'id': 3, 'name': 'Soledad Morgan', 'position': 'Data Analysis', 'annual_salary': 61314, 'deductibles': 15175.215, 'deductible_taxes': 10691.62875, 'deductible_benefits': 4483.58625, 'net_annual_income': 53803.035}\n",
            "{'company_name': 'Durham', 'id': 4, 'name': 'Soledad Morgan', 'position': 'Developer', 'annual_salary': 44916, 'deductibles': 11017.8948, 'deductible_taxes': 7762.6077, 'deductible_benefits': 3255.2871, 'net_annual_income': 39063.445199999995}\n",
            "{'company_name': 'Durham', 'id': 5, 'name': 'Rebecca Adams', 'position': 'Manager', 'annual_salary': 67154, 'deductibles': 16620.615, 'deductible_taxes': 11709.97875, 'deductible_benefits': 4910.6362500000005, 'net_annual_income': 58927.634999999995}\n"
          ]
        }
      ]
    },
    {
      "cell_type": "code",
      "source": [
        "# import pandas library for dataframe\n",
        "import pandas as pd\n",
        "# loop ALL variable in employee class, put the variable names and values into dataframe\n",
        "df = pd.DataFrame([vars(e) for e in employees])"
      ],
      "metadata": {
        "id": "qE1ymkKn0Xk9"
      },
      "execution_count": 8,
      "outputs": []
    },
    {
      "cell_type": "code",
      "source": [
        "# print dataframe\n",
        "df"
      ],
      "metadata": {
        "colab": {
          "base_uri": "https://localhost:8080/",
          "height": 206
        },
        "id": "1EwrD20f0ikv",
        "outputId": "3348aca3-72f8-461c-da00-1f1096c3e06a"
      },
      "execution_count": 9,
      "outputs": [
        {
          "output_type": "execute_result",
          "data": {
            "text/html": [
              "\n",
              "  <div id=\"df-423ebfce-6e6d-451d-a191-b6eda30f8d83\">\n",
              "    <div class=\"colab-df-container\">\n",
              "      <div>\n",
              "<style scoped>\n",
              "    .dataframe tbody tr th:only-of-type {\n",
              "        vertical-align: middle;\n",
              "    }\n",
              "\n",
              "    .dataframe tbody tr th {\n",
              "        vertical-align: top;\n",
              "    }\n",
              "\n",
              "    .dataframe thead th {\n",
              "        text-align: right;\n",
              "    }\n",
              "</style>\n",
              "<table border=\"1\" class=\"dataframe\">\n",
              "  <thead>\n",
              "    <tr style=\"text-align: right;\">\n",
              "      <th></th>\n",
              "      <th>company_name</th>\n",
              "      <th>id</th>\n",
              "      <th>name</th>\n",
              "      <th>position</th>\n",
              "      <th>annual_salary</th>\n",
              "      <th>deductibles</th>\n",
              "      <th>deductible_taxes</th>\n",
              "      <th>deductible_benefits</th>\n",
              "      <th>net_annual_income</th>\n",
              "    </tr>\n",
              "  </thead>\n",
              "  <tbody>\n",
              "    <tr>\n",
              "      <th>0</th>\n",
              "      <td>Durham</td>\n",
              "      <td>1</td>\n",
              "      <td>John Stahlberg</td>\n",
              "      <td>Potato</td>\n",
              "      <td>38741</td>\n",
              "      <td>9503.1673</td>\n",
              "      <td>6695.413325</td>\n",
              "      <td>2807.753975</td>\n",
              "      <td>33693.0477</td>\n",
              "    </tr>\n",
              "    <tr>\n",
              "      <th>1</th>\n",
              "      <td>Durham</td>\n",
              "      <td>2</td>\n",
              "      <td>Rebecca Adams</td>\n",
              "      <td>QA</td>\n",
              "      <td>19885</td>\n",
              "      <td>4834.0435</td>\n",
              "      <td>3405.803375</td>\n",
              "      <td>1428.240125</td>\n",
              "      <td>17138.8815</td>\n",
              "    </tr>\n",
              "    <tr>\n",
              "      <th>2</th>\n",
              "      <td>Durham</td>\n",
              "      <td>3</td>\n",
              "      <td>Soledad Morgan</td>\n",
              "      <td>Data Analysis</td>\n",
              "      <td>61314</td>\n",
              "      <td>15175.2150</td>\n",
              "      <td>10691.628750</td>\n",
              "      <td>4483.586250</td>\n",
              "      <td>53803.0350</td>\n",
              "    </tr>\n",
              "    <tr>\n",
              "      <th>3</th>\n",
              "      <td>Durham</td>\n",
              "      <td>4</td>\n",
              "      <td>Soledad Morgan</td>\n",
              "      <td>Developer</td>\n",
              "      <td>44916</td>\n",
              "      <td>11017.8948</td>\n",
              "      <td>7762.607700</td>\n",
              "      <td>3255.287100</td>\n",
              "      <td>39063.4452</td>\n",
              "    </tr>\n",
              "    <tr>\n",
              "      <th>4</th>\n",
              "      <td>Durham</td>\n",
              "      <td>5</td>\n",
              "      <td>Rebecca Adams</td>\n",
              "      <td>Manager</td>\n",
              "      <td>67154</td>\n",
              "      <td>16620.6150</td>\n",
              "      <td>11709.978750</td>\n",
              "      <td>4910.636250</td>\n",
              "      <td>58927.6350</td>\n",
              "    </tr>\n",
              "  </tbody>\n",
              "</table>\n",
              "</div>\n",
              "      <button class=\"colab-df-convert\" onclick=\"convertToInteractive('df-423ebfce-6e6d-451d-a191-b6eda30f8d83')\"\n",
              "              title=\"Convert this dataframe to an interactive table.\"\n",
              "              style=\"display:none;\">\n",
              "        \n",
              "  <svg xmlns=\"http://www.w3.org/2000/svg\" height=\"24px\"viewBox=\"0 0 24 24\"\n",
              "       width=\"24px\">\n",
              "    <path d=\"M0 0h24v24H0V0z\" fill=\"none\"/>\n",
              "    <path d=\"M18.56 5.44l.94 2.06.94-2.06 2.06-.94-2.06-.94-.94-2.06-.94 2.06-2.06.94zm-11 1L8.5 8.5l.94-2.06 2.06-.94-2.06-.94L8.5 2.5l-.94 2.06-2.06.94zm10 10l.94 2.06.94-2.06 2.06-.94-2.06-.94-.94-2.06-.94 2.06-2.06.94z\"/><path d=\"M17.41 7.96l-1.37-1.37c-.4-.4-.92-.59-1.43-.59-.52 0-1.04.2-1.43.59L10.3 9.45l-7.72 7.72c-.78.78-.78 2.05 0 2.83L4 21.41c.39.39.9.59 1.41.59.51 0 1.02-.2 1.41-.59l7.78-7.78 2.81-2.81c.8-.78.8-2.07 0-2.86zM5.41 20L4 18.59l7.72-7.72 1.47 1.35L5.41 20z\"/>\n",
              "  </svg>\n",
              "      </button>\n",
              "      \n",
              "  <style>\n",
              "    .colab-df-container {\n",
              "      display:flex;\n",
              "      flex-wrap:wrap;\n",
              "      gap: 12px;\n",
              "    }\n",
              "\n",
              "    .colab-df-convert {\n",
              "      background-color: #E8F0FE;\n",
              "      border: none;\n",
              "      border-radius: 50%;\n",
              "      cursor: pointer;\n",
              "      display: none;\n",
              "      fill: #1967D2;\n",
              "      height: 32px;\n",
              "      padding: 0 0 0 0;\n",
              "      width: 32px;\n",
              "    }\n",
              "\n",
              "    .colab-df-convert:hover {\n",
              "      background-color: #E2EBFA;\n",
              "      box-shadow: 0px 1px 2px rgba(60, 64, 67, 0.3), 0px 1px 3px 1px rgba(60, 64, 67, 0.15);\n",
              "      fill: #174EA6;\n",
              "    }\n",
              "\n",
              "    [theme=dark] .colab-df-convert {\n",
              "      background-color: #3B4455;\n",
              "      fill: #D2E3FC;\n",
              "    }\n",
              "\n",
              "    [theme=dark] .colab-df-convert:hover {\n",
              "      background-color: #434B5C;\n",
              "      box-shadow: 0px 1px 3px 1px rgba(0, 0, 0, 0.15);\n",
              "      filter: drop-shadow(0px 1px 2px rgba(0, 0, 0, 0.3));\n",
              "      fill: #FFFFFF;\n",
              "    }\n",
              "  </style>\n",
              "\n",
              "      <script>\n",
              "        const buttonEl =\n",
              "          document.querySelector('#df-423ebfce-6e6d-451d-a191-b6eda30f8d83 button.colab-df-convert');\n",
              "        buttonEl.style.display =\n",
              "          google.colab.kernel.accessAllowed ? 'block' : 'none';\n",
              "\n",
              "        async function convertToInteractive(key) {\n",
              "          const element = document.querySelector('#df-423ebfce-6e6d-451d-a191-b6eda30f8d83');\n",
              "          const dataTable =\n",
              "            await google.colab.kernel.invokeFunction('convertToInteractive',\n",
              "                                                     [key], {});\n",
              "          if (!dataTable) return;\n",
              "\n",
              "          const docLinkHtml = 'Like what you see? Visit the ' +\n",
              "            '<a target=\"_blank\" href=https://colab.research.google.com/notebooks/data_table.ipynb>data table notebook</a>'\n",
              "            + ' to learn more about interactive tables.';\n",
              "          element.innerHTML = '';\n",
              "          dataTable['output_type'] = 'display_data';\n",
              "          await google.colab.output.renderOutput(dataTable, element);\n",
              "          const docLink = document.createElement('div');\n",
              "          docLink.innerHTML = docLinkHtml;\n",
              "          element.appendChild(docLink);\n",
              "        }\n",
              "      </script>\n",
              "    </div>\n",
              "  </div>\n",
              "  "
            ],
            "text/plain": [
              "  company_name  id  ... deductible_benefits net_annual_income\n",
              "0       Durham   1  ...         2807.753975        33693.0477\n",
              "1       Durham   2  ...         1428.240125        17138.8815\n",
              "2       Durham   3  ...         4483.586250        53803.0350\n",
              "3       Durham   4  ...         3255.287100        39063.4452\n",
              "4       Durham   5  ...         4910.636250        58927.6350\n",
              "\n",
              "[5 rows x 9 columns]"
            ]
          },
          "metadata": {},
          "execution_count": 9
        }
      ]
    },
    {
      "cell_type": "code",
      "source": [
        ""
      ],
      "metadata": {
        "id": "jhycR-wl0jXp"
      },
      "execution_count": 9,
      "outputs": []
    }
  ]
}